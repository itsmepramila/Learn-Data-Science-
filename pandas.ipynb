{
 "cells": [
  {
   "cell_type": "code",
   "execution_count": 2,
   "id": "4280f212",
   "metadata": {},
   "outputs": [],
   "source": [
    "import pandas as pd"
   ]
  },
  {
   "cell_type": "code",
   "execution_count": 4,
   "id": "cab7cfe6",
   "metadata": {},
   "outputs": [],
   "source": [
    "s=pd.Series([\"Ind\", \"Aus\", \"Nz\", \"us\"])"
   ]
  },
  {
   "cell_type": "code",
   "execution_count": 5,
   "id": "34f75b05",
   "metadata": {},
   "outputs": [
    {
     "data": {
      "text/plain": [
       "0    Ind\n",
       "1    Aus\n",
       "2     Nz\n",
       "3     us\n",
       "dtype: object"
      ]
     },
     "execution_count": 5,
     "metadata": {},
     "output_type": "execute_result"
    }
   ],
   "source": [
    "s"
   ]
  },
  {
   "cell_type": "code",
   "execution_count": 6,
   "id": "5e1474d6",
   "metadata": {},
   "outputs": [
    {
     "data": {
      "text/plain": [
       "pandas.core.series.Series"
      ]
     },
     "execution_count": 6,
     "metadata": {},
     "output_type": "execute_result"
    }
   ],
   "source": [
    "type(s)"
   ]
  },
  {
   "cell_type": "code",
   "execution_count": 7,
   "id": "120f3e91",
   "metadata": {},
   "outputs": [
    {
     "data": {
      "text/plain": [
       "4"
      ]
     },
     "execution_count": 7,
     "metadata": {},
     "output_type": "execute_result"
    }
   ],
   "source": [
    "len(s)"
   ]
  },
  {
   "cell_type": "code",
   "execution_count": 8,
   "id": "79db5c4d",
   "metadata": {},
   "outputs": [
    {
     "data": {
      "text/plain": [
       "1"
      ]
     },
     "execution_count": 8,
     "metadata": {},
     "output_type": "execute_result"
    }
   ],
   "source": [
    "s.ndim"
   ]
  },
  {
   "cell_type": "code",
   "execution_count": 9,
   "id": "fd3e4d4c",
   "metadata": {},
   "outputs": [
    {
     "data": {
      "text/plain": [
       "(4,)"
      ]
     },
     "execution_count": 9,
     "metadata": {},
     "output_type": "execute_result"
    }
   ],
   "source": [
    "s.shape"
   ]
  },
  {
   "cell_type": "code",
   "execution_count": 10,
   "id": "e219d3cb",
   "metadata": {},
   "outputs": [],
   "source": [
    "s=pd.Series([\"Ind\", \"Aus\", \"Nz\", \"us\"], index=[\"a\", \"b\", \"c\", \"d\"]) # defining your own index"
   ]
  },
  {
   "cell_type": "code",
   "execution_count": 11,
   "id": "a43a3a3c",
   "metadata": {},
   "outputs": [
    {
     "data": {
      "text/plain": [
       "a    Ind\n",
       "b    Aus\n",
       "c     Nz\n",
       "d     us\n",
       "dtype: object"
      ]
     },
     "execution_count": 11,
     "metadata": {},
     "output_type": "execute_result"
    }
   ],
   "source": [
    "s"
   ]
  },
  {
   "cell_type": "code",
   "execution_count": 12,
   "id": "0867735f",
   "metadata": {},
   "outputs": [],
   "source": [
    "country=['Ind', \"Aus\", \"Nz\", \"Us\"]\n",
    "cost=[10000, 20000, 30000, 40000]"
   ]
  },
  {
   "cell_type": "code",
   "execution_count": 15,
   "id": "a59f54a0",
   "metadata": {},
   "outputs": [
    {
     "data": {
      "text/plain": [
       "Ind    10000\n",
       "Aus    20000\n",
       "Nz     30000\n",
       "Us     40000\n",
       "dtype: int64"
      ]
     },
     "execution_count": 15,
     "metadata": {},
     "output_type": "execute_result"
    }
   ],
   "source": [
    "sales=pd.Series(cost, index=country)\n",
    "sales"
   ]
  },
  {
   "cell_type": "code",
   "execution_count": 16,
   "id": "727c4fa1",
   "metadata": {},
   "outputs": [
    {
     "data": {
      "text/plain": [
       "Ind    10000\n",
       "Aus    20000\n",
       "Nz     30000\n",
       "Us     40000\n",
       "dtype: int64"
      ]
     },
     "execution_count": 16,
     "metadata": {},
     "output_type": "execute_result"
    }
   ],
   "source": [
    "pd.Series(sales)"
   ]
  },
  {
   "cell_type": "code",
   "execution_count": 18,
   "id": "839f84f5",
   "metadata": {},
   "outputs": [
    {
     "data": {
      "text/plain": [
       "Ind    10000\n",
       "Aus    20000\n",
       "Nz     30000\n",
       "Us     40000\n",
       "dtype: int64"
      ]
     },
     "execution_count": 18,
     "metadata": {},
     "output_type": "execute_result"
    }
   ],
   "source": [
    "pd.Series(sales, index=country)"
   ]
  },
  {
   "cell_type": "code",
   "execution_count": 20,
   "id": "477e5fe8",
   "metadata": {},
   "outputs": [
    {
     "data": {
      "text/plain": [
       "Ind    2000\n",
       "Aus    5000\n",
       "Nz     8000\n",
       "Us      900\n",
       "dtype: int64"
      ]
     },
     "execution_count": 20,
     "metadata": {},
     "output_type": "execute_result"
    }
   ],
   "source": [
    "data={\"Ind\":2000, 'Aus':5000, 'Nz':8000, 'Us':900}\n",
    "pd.Series(data)"
   ]
  },
  {
   "cell_type": "code",
   "execution_count": 21,
   "id": "0569e234",
   "metadata": {},
   "outputs": [],
   "source": [
    "# lets  take the example of spreadsheet \n",
    "# spredsheet is nothing it is the combination of rows and columns\n",
    "#spreadsheet and DataFrame are same in terms of showinng and the storing date"
   ]
  },
  {
   "cell_type": "code",
   "execution_count": null,
   "id": "30e88062",
   "metadata": {},
   "outputs": [],
   "source": []
  },
  {
   "cell_type": "code",
   "execution_count": 23,
   "id": "f0872311",
   "metadata": {},
   "outputs": [
    {
     "ename": "SyntaxError",
     "evalue": "invalid syntax. Perhaps you forgot a comma? (2281440347.py, line 4)",
     "output_type": "error",
     "traceback": [
      "\u001b[1;36m  Cell \u001b[1;32mIn[23], line 4\u001b[1;36m\u001b[0m\n\u001b[1;33m    'age':[34 32, 29],\u001b[0m\n\u001b[1;37m           ^\u001b[0m\n\u001b[1;31mSyntaxError\u001b[0m\u001b[1;31m:\u001b[0m invalid syntax. Perhaps you forgot a comma?\n"
     ]
    }
   ],
   "source": [
    "EmployeeData={\n",
    "    'id': [100, 102, 103, 104],\n",
    "    'name':['Daniel', 'Butlar', 'Morgan'],\n",
    "    'age':[34 32, 29],\n",
    "    'city':['Goa', 'Agra', 'Delhi']\n",
    "}"
   ]
  },
  {
   "cell_type": "code",
   "execution_count": null,
   "id": "d5a4b2db",
   "metadata": {},
   "outputs": [],
   "source": []
  }
 ],
 "metadata": {
  "kernelspec": {
   "display_name": "Python 3 (ipykernel)",
   "language": "python",
   "name": "python3"
  },
  "language_info": {
   "codemirror_mode": {
    "name": "ipython",
    "version": 3
   },
   "file_extension": ".py",
   "mimetype": "text/x-python",
   "name": "python",
   "nbconvert_exporter": "python",
   "pygments_lexer": "ipython3",
   "version": "3.10.11"
  }
 },
 "nbformat": 4,
 "nbformat_minor": 5
}
