{
 "cells": [
  {
   "cell_type": "markdown",
   "id": "829c5bf8",
   "metadata": {},
   "source": [
    "# importing neccessar tools"
   ]
  },
  {
   "cell_type": "code",
   "execution_count": 22,
   "id": "ecd50a43",
   "metadata": {},
   "outputs": [],
   "source": [
    "import numpy as np\n",
    "import pandas as pd\n",
    "import matplotlib.pyplot as plt\n",
    "import seaborn as sns"
   ]
  },
  {
   "cell_type": "code",
   "execution_count": 23,
   "id": "ef8d9f1b",
   "metadata": {},
   "outputs": [],
   "source": [
    "df=pd.read_csv(\"coaster_db.csv\")"
   ]
  },
  {
   "cell_type": "code",
   "execution_count": 24,
   "id": "334dd0ae",
   "metadata": {},
   "outputs": [],
   "source": [
    "df"
   ]
  },
  {
   "cell_type": "code",
   "execution_count": 25,
   "id": "7acc4d89",
   "metadata": {},
   "outputs": [],
   "source": [
    "df.shape"
   ]
  },
  {
   "cell_type": "code",
   "execution_count": 26,
   "id": "a6ecbceb",
   "metadata": {},
   "outputs": [],
   "source": [
    "df.columns"
   ]
  },
  {
   "cell_type": "code",
   "execution_count": 27,
   "id": "acc7f53a",
   "metadata": {},
   "outputs": [],
   "source": [
    "df.dtypes"
   ]
  },
  {
   "cell_type": "code",
   "execution_count": 28,
   "id": "75b5a214",
   "metadata": {},
   "outputs": [],
   "source": [
    "df.describe() # gives the statistical value of the dataset"
   ]
  },
  {
   "cell_type": "code",
   "execution_count": 29,
   "id": "2188c7f4",
   "metadata": {},
   "outputs": [],
   "source": [
    "\n",
    "df.drop(['Opening date'], axis=1) # exapmple of droping single columns"
   ]
  },
  {
   "cell_type": "code",
   "execution_count": 30,
   "id": "f494a004",
   "metadata": {},
   "outputs": [],
   "source": [
    "df.shape"
   ]
  },
  {
   "cell_type": "code",
   "execution_count": null,
   "id": "f746bd34",
   "metadata": {},
   "outputs": [],
   "source": []
  }
 ],
 "metadata": {
  "kernelspec": {
   "display_name": "Python 3 (ipykernel)",
   "language": "python",
   "name": "python3"
  },
  "language_info": {
   "codemirror_mode": {
    "name": "ipython",
    "version": 3
   },
   "file_extension": ".py",
   "mimetype": "text/x-python",
   "name": "python",
   "nbconvert_exporter": "python",
   "pygments_lexer": "ipython3",
   "version": "3.10.11"
  }
 },
 "nbformat": 4,
 "nbformat_minor": 5
}
