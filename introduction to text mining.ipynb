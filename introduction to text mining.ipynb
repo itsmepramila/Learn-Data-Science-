{
 "cells": [
  {
   "cell_type": "code",
   "execution_count": 1,
   "id": "dfcb3544",
   "metadata": {},
   "outputs": [
    {
     "name": "stderr",
     "output_type": "stream",
     "text": [
      "[nltk_data] Downloading package punkt to C:\\Users\\Oxford\n",
      "[nltk_data]     Computer\\AppData\\Roaming\\nltk_data...\n",
      "[nltk_data]   Package punkt is already up-to-date!\n"
     ]
    },
    {
     "data": {
      "text/plain": [
       "True"
      ]
     },
     "execution_count": 1,
     "metadata": {},
     "output_type": "execute_result"
    }
   ],
   "source": [
    "import nltk\n",
    "nltk.download('punkt')"
   ]
  },
  {
   "cell_type": "code",
   "execution_count": 2,
   "id": "36b2ec8d",
   "metadata": {},
   "outputs": [],
   "source": [
    "sent='I Like Football'"
   ]
  },
  {
   "cell_type": "markdown",
   "id": "7c8728d2",
   "metadata": {},
   "source": [
    "# I want to split this sentence into words:tokenization"
   ]
  },
  {
   "cell_type": "code",
   "execution_count": 4,
   "id": "69a3705f",
   "metadata": {},
   "outputs": [
    {
     "data": {
      "text/plain": [
       "['I', 'Like', 'Football']"
      ]
     },
     "execution_count": 4,
     "metadata": {},
     "output_type": "execute_result"
    }
   ],
   "source": [
    "nltk.word_tokenize(sent)"
   ]
  },
  {
   "cell_type": "code",
   "execution_count": 5,
   "id": "c81093f6",
   "metadata": {},
   "outputs": [],
   "source": [
    "paragraph=\"I like Football. She likes NBA\""
   ]
  },
  {
   "cell_type": "code",
   "execution_count": 7,
   "id": "bae7de65",
   "metadata": {},
   "outputs": [
    {
     "data": {
      "text/plain": [
       "['I like Football.', 'She likes NBA']"
      ]
     },
     "execution_count": 7,
     "metadata": {},
     "output_type": "execute_result"
    }
   ],
   "source": [
    "nltk.sent_tokenize(paragraph)"
   ]
  },
  {
   "cell_type": "markdown",
   "id": "06f29e86",
   "metadata": {},
   "source": [
    "# Removing stopwords\n",
    "\n",
    "Words like “is, the. of, a” is not much important because it does not add much meaning to the sentence we can remove them using stopwords.\n"
   ]
  },
  {
   "cell_type": "code",
   "execution_count": 8,
   "id": "c98d61ce",
   "metadata": {},
   "outputs": [],
   "source": [
    "email = 'You won $30 worth of lottery ticket'"
   ]
  },
  {
   "cell_type": "code",
   "execution_count": 9,
   "id": "4f5e8b93",
   "metadata": {},
   "outputs": [
    {
     "name": "stderr",
     "output_type": "stream",
     "text": [
      "[nltk_data] Downloading package stopwords to C:\\Users\\Oxford\n",
      "[nltk_data]     Computer\\AppData\\Roaming\\nltk_data...\n",
      "[nltk_data]   Package stopwords is already up-to-date!\n"
     ]
    },
    {
     "data": {
      "text/plain": [
       "True"
      ]
     },
     "execution_count": 9,
     "metadata": {},
     "output_type": "execute_result"
    }
   ],
   "source": [
    "nltk.download('stopwords')"
   ]
  },
  {
   "cell_type": "code",
   "execution_count": 10,
   "id": "1151710e",
   "metadata": {},
   "outputs": [
    {
     "data": {
      "text/plain": [
       "['i',\n",
       " 'me',\n",
       " 'my',\n",
       " 'myself',\n",
       " 'we',\n",
       " 'our',\n",
       " 'ours',\n",
       " 'ourselves',\n",
       " 'you',\n",
       " \"you're\",\n",
       " \"you've\",\n",
       " \"you'll\",\n",
       " \"you'd\",\n",
       " 'your',\n",
       " 'yours',\n",
       " 'yourself',\n",
       " 'yourselves',\n",
       " 'he',\n",
       " 'him',\n",
       " 'his',\n",
       " 'himself',\n",
       " 'she',\n",
       " \"she's\",\n",
       " 'her',\n",
       " 'hers',\n",
       " 'herself',\n",
       " 'it',\n",
       " \"it's\",\n",
       " 'its',\n",
       " 'itself',\n",
       " 'they',\n",
       " 'them',\n",
       " 'their',\n",
       " 'theirs',\n",
       " 'themselves',\n",
       " 'what',\n",
       " 'which',\n",
       " 'who',\n",
       " 'whom',\n",
       " 'this',\n",
       " 'that',\n",
       " \"that'll\",\n",
       " 'these',\n",
       " 'those',\n",
       " 'am',\n",
       " 'is',\n",
       " 'are',\n",
       " 'was',\n",
       " 'were',\n",
       " 'be',\n",
       " 'been',\n",
       " 'being',\n",
       " 'have',\n",
       " 'has',\n",
       " 'had',\n",
       " 'having',\n",
       " 'do',\n",
       " 'does',\n",
       " 'did',\n",
       " 'doing',\n",
       " 'a',\n",
       " 'an',\n",
       " 'the',\n",
       " 'and',\n",
       " 'but',\n",
       " 'if',\n",
       " 'or',\n",
       " 'because',\n",
       " 'as',\n",
       " 'until',\n",
       " 'while',\n",
       " 'of',\n",
       " 'at',\n",
       " 'by',\n",
       " 'for',\n",
       " 'with',\n",
       " 'about',\n",
       " 'against',\n",
       " 'between',\n",
       " 'into',\n",
       " 'through',\n",
       " 'during',\n",
       " 'before',\n",
       " 'after',\n",
       " 'above',\n",
       " 'below',\n",
       " 'to',\n",
       " 'from',\n",
       " 'up',\n",
       " 'down',\n",
       " 'in',\n",
       " 'out',\n",
       " 'on',\n",
       " 'off',\n",
       " 'over',\n",
       " 'under',\n",
       " 'again',\n",
       " 'further',\n",
       " 'then',\n",
       " 'once',\n",
       " 'here',\n",
       " 'there',\n",
       " 'when',\n",
       " 'where',\n",
       " 'why',\n",
       " 'how',\n",
       " 'all',\n",
       " 'any',\n",
       " 'both',\n",
       " 'each',\n",
       " 'few',\n",
       " 'more',\n",
       " 'most',\n",
       " 'other',\n",
       " 'some',\n",
       " 'such',\n",
       " 'no',\n",
       " 'nor',\n",
       " 'not',\n",
       " 'only',\n",
       " 'own',\n",
       " 'same',\n",
       " 'so',\n",
       " 'than',\n",
       " 'too',\n",
       " 'very',\n",
       " 's',\n",
       " 't',\n",
       " 'can',\n",
       " 'will',\n",
       " 'just',\n",
       " 'don',\n",
       " \"don't\",\n",
       " 'should',\n",
       " \"should've\",\n",
       " 'now',\n",
       " 'd',\n",
       " 'll',\n",
       " 'm',\n",
       " 'o',\n",
       " 're',\n",
       " 've',\n",
       " 'y',\n",
       " 'ain',\n",
       " 'aren',\n",
       " \"aren't\",\n",
       " 'couldn',\n",
       " \"couldn't\",\n",
       " 'didn',\n",
       " \"didn't\",\n",
       " 'doesn',\n",
       " \"doesn't\",\n",
       " 'hadn',\n",
       " \"hadn't\",\n",
       " 'hasn',\n",
       " \"hasn't\",\n",
       " 'haven',\n",
       " \"haven't\",\n",
       " 'isn',\n",
       " \"isn't\",\n",
       " 'ma',\n",
       " 'mightn',\n",
       " \"mightn't\",\n",
       " 'mustn',\n",
       " \"mustn't\",\n",
       " 'needn',\n",
       " \"needn't\",\n",
       " 'shan',\n",
       " \"shan't\",\n",
       " 'shouldn',\n",
       " \"shouldn't\",\n",
       " 'wasn',\n",
       " \"wasn't\",\n",
       " 'weren',\n",
       " \"weren't\",\n",
       " 'won',\n",
       " \"won't\",\n",
       " 'wouldn',\n",
       " \"wouldn't\"]"
      ]
     },
     "execution_count": 10,
     "metadata": {},
     "output_type": "execute_result"
    }
   ],
   "source": [
    "nltk.corpus.stopwords.words('english')"
   ]
  },
  {
   "cell_type": "code",
   "execution_count": 11,
   "id": "bae27c35",
   "metadata": {},
   "outputs": [
    {
     "data": {
      "text/plain": [
       "['छ',\n",
       " 'र',\n",
       " 'पनि',\n",
       " 'छन्',\n",
       " 'लागि',\n",
       " 'भएको',\n",
       " 'गरेको',\n",
       " 'भने',\n",
       " 'गर्न',\n",
       " 'गर्ने',\n",
       " 'हो',\n",
       " 'तथा',\n",
       " 'यो',\n",
       " 'रहेको',\n",
       " 'उनले',\n",
       " 'थियो',\n",
       " 'हुने',\n",
       " 'गरेका',\n",
       " 'थिए',\n",
       " 'गर्दै',\n",
       " 'तर',\n",
       " 'नै',\n",
       " 'को',\n",
       " 'मा',\n",
       " 'हुन्',\n",
       " 'भन्ने',\n",
       " 'हुन',\n",
       " 'गरी',\n",
       " 'त',\n",
       " 'हुन्छ',\n",
       " 'अब',\n",
       " 'के',\n",
       " 'रहेका',\n",
       " 'गरेर',\n",
       " 'छैन',\n",
       " 'दिए',\n",
       " 'भए',\n",
       " 'यस',\n",
       " 'ले',\n",
       " 'गर्नु',\n",
       " 'औं',\n",
       " 'सो',\n",
       " 'त्यो',\n",
       " 'कि',\n",
       " 'जुन',\n",
       " 'यी',\n",
       " 'का',\n",
       " 'गरि',\n",
       " 'ती',\n",
       " 'न',\n",
       " 'छु',\n",
       " 'छौं',\n",
       " 'लाई',\n",
       " 'नि',\n",
       " 'उप',\n",
       " 'अक्सर',\n",
       " 'आदि',\n",
       " 'कसरी',\n",
       " 'क्रमशः',\n",
       " 'चाले',\n",
       " 'अगाडी',\n",
       " 'अझै',\n",
       " 'अनुसार',\n",
       " 'अन्तर्गत',\n",
       " 'अन्य',\n",
       " 'अन्यत्र',\n",
       " 'अन्यथा',\n",
       " 'अरु',\n",
       " 'अरुलाई',\n",
       " 'अर्को',\n",
       " 'अर्थात',\n",
       " 'अर्थात्',\n",
       " 'अलग',\n",
       " 'आए',\n",
       " 'आजको',\n",
       " 'ओठ',\n",
       " 'आत्म',\n",
       " 'आफू',\n",
       " 'आफूलाई',\n",
       " 'आफ्नै',\n",
       " 'आफ्नो',\n",
       " 'आयो',\n",
       " 'उदाहरण',\n",
       " 'उनको',\n",
       " 'उहालाई',\n",
       " 'एउटै',\n",
       " 'एक',\n",
       " 'एकदम',\n",
       " 'कतै',\n",
       " 'कम से कम',\n",
       " 'कसै',\n",
       " 'कसैले',\n",
       " 'कहाँबाट',\n",
       " 'कहिलेकाहीं',\n",
       " 'का',\n",
       " 'किन',\n",
       " 'किनभने',\n",
       " 'कुनै',\n",
       " 'कुरा',\n",
       " 'कृपया',\n",
       " 'केही',\n",
       " 'कोही',\n",
       " 'गए',\n",
       " 'गरौं',\n",
       " 'गर्छ',\n",
       " 'गर्छु',\n",
       " 'गर्नुपर्छ',\n",
       " 'गयौ',\n",
       " 'गैर',\n",
       " 'चार',\n",
       " 'चाहनुहुन्छ',\n",
       " 'चाहन्छु',\n",
       " 'चाहिए',\n",
       " 'छू',\n",
       " 'जताततै',\n",
       " 'जब',\n",
       " 'जबकि',\n",
       " 'जसको',\n",
       " 'जसबाट',\n",
       " 'जसमा',\n",
       " 'जसलाई',\n",
       " 'जसले',\n",
       " 'जस्तै',\n",
       " 'जस्तो',\n",
       " 'जस्तोसुकै',\n",
       " 'जहाँ',\n",
       " 'जान',\n",
       " 'जाहिर',\n",
       " 'जे',\n",
       " 'जो',\n",
       " 'ठीक',\n",
       " 'तत्काल',\n",
       " 'तदनुसार',\n",
       " 'तपाईको',\n",
       " 'तपाई',\n",
       " 'पर्याप्त',\n",
       " 'पहिले',\n",
       " 'पहिलो',\n",
       " 'पहिल्यै',\n",
       " 'पाँच',\n",
       " 'पाँचौं',\n",
       " 'तल',\n",
       " 'तापनी',\n",
       " 'तिनी',\n",
       " 'तिनीहरू',\n",
       " 'तिनीहरुको',\n",
       " 'तिनिहरुलाई',\n",
       " 'तिमी',\n",
       " 'तिर',\n",
       " 'तीन',\n",
       " 'तुरुन्तै',\n",
       " 'तेस्रो',\n",
       " 'तेस्कारण',\n",
       " 'पूर्व',\n",
       " 'प्रति',\n",
       " 'प्रतेक',\n",
       " 'प्लस',\n",
       " 'फेरी',\n",
       " 'बने',\n",
       " 'त्सपछि',\n",
       " 'त्सैले',\n",
       " 'त्यहाँ',\n",
       " 'थिएन',\n",
       " 'दिनुभएको',\n",
       " 'दिनुहुन्छ',\n",
       " 'दुई',\n",
       " 'देखि',\n",
       " 'बरु',\n",
       " 'बारे',\n",
       " 'बाहिर',\n",
       " 'देखिन्छ',\n",
       " 'देखियो',\n",
       " 'देखे',\n",
       " 'देखेको',\n",
       " 'देखेर',\n",
       " 'दोस्रो',\n",
       " 'धेरै',\n",
       " 'नजिकै',\n",
       " 'नत्र',\n",
       " 'नयाँ',\n",
       " 'निम्ति',\n",
       " 'बाहेक',\n",
       " 'बीच',\n",
       " 'बीचमा',\n",
       " 'भन',\n",
       " 'निम्न',\n",
       " 'निम्नानुसार',\n",
       " 'निर्दिष्ट',\n",
       " 'नौ',\n",
       " 'पक्का',\n",
       " 'पक्कै',\n",
       " 'पछि',\n",
       " 'पछिल्लो',\n",
       " 'पटक',\n",
       " 'पर्छ',\n",
       " 'पर्थ्यो',\n",
       " 'भन्छन्',\n",
       " 'भन्',\n",
       " 'भन्छु',\n",
       " 'भन्दा',\n",
       " 'भन्नुभयो',\n",
       " 'भर',\n",
       " 'भित्र',\n",
       " 'भित्री',\n",
       " 'म',\n",
       " 'मलाई',\n",
       " 'मात्र',\n",
       " 'माथि',\n",
       " 'मुख्य',\n",
       " 'मेरो',\n",
       " 'यति',\n",
       " 'यथोचित',\n",
       " 'यदि',\n",
       " 'यद्यपि',\n",
       " 'यसको',\n",
       " 'यसपछि',\n",
       " 'यसबाहेक',\n",
       " 'यसरी',\n",
       " 'यसो',\n",
       " 'यस्तो',\n",
       " 'यहाँ',\n",
       " 'यहाँसम्म',\n",
       " 'या',\n",
       " 'रही',\n",
       " 'राखे',\n",
       " 'राख्छ',\n",
       " 'राम्रो',\n",
       " 'रूप',\n",
       " 'लगभग',\n",
       " 'वरीपरी',\n",
       " 'वास्तवमा',\n",
       " 'बिरुद्ध',\n",
       " 'बिशेष',\n",
       " 'सायद',\n",
       " 'शायद',\n",
       " 'संग',\n",
       " 'संगै',\n",
       " 'सक्छ',\n",
       " 'सट्टा',\n",
       " 'सधै',\n",
       " 'सबै',\n",
       " 'सबैलाई',\n",
       " 'समय',\n",
       " 'सम्भव',\n",
       " 'सम्म',\n",
       " 'सही',\n",
       " 'साँच्चै',\n",
       " 'सात',\n",
       " 'साथ',\n",
       " 'साथै',\n",
       " 'सारा',\n",
       " 'सोही',\n",
       " 'स्पष्ट',\n",
       " 'हरे',\n",
       " 'हरेक']"
      ]
     },
     "execution_count": 11,
     "metadata": {},
     "output_type": "execute_result"
    }
   ],
   "source": [
    "nltk.corpus.stopwords.words('nepali')"
   ]
  },
  {
   "cell_type": "code",
   "execution_count": 12,
   "id": "ab317b01",
   "metadata": {},
   "outputs": [],
   "source": [
    "email = 'you won $30 worth of lottery ticket' # remove stopwords"
   ]
  },
  {
   "cell_type": "code",
   "execution_count": 14,
   "id": "ad41fdf5",
   "metadata": {},
   "outputs": [
    {
     "name": "stderr",
     "output_type": "stream",
     "text": [
      "[nltk_data] Downloading package stopwords to C:\\Users\\Oxford\n",
      "[nltk_data]     Computer\\AppData\\Roaming\\nltk_data...\n",
      "[nltk_data]   Package stopwords is already up-to-date!\n"
     ]
    },
    {
     "data": {
      "text/plain": [
       "True"
      ]
     },
     "execution_count": 14,
     "metadata": {},
     "output_type": "execute_result"
    }
   ],
   "source": [
    "nltk.download('stopwords')"
   ]
  },
  {
   "cell_type": "code",
   "execution_count": 15,
   "id": "e187d505",
   "metadata": {},
   "outputs": [
    {
     "data": {
      "text/plain": [
       "['$', '30', 'worth', 'lottery', 'ticket']"
      ]
     },
     "execution_count": 15,
     "metadata": {},
     "output_type": "execute_result"
    }
   ],
   "source": [
    "words = nltk.word_tokenize(email)\n",
    "stopwords = nltk.corpus.stopwords.words('english')\n",
    "[item for item in words if item not in stopwords]"
   ]
  },
  {
   "cell_type": "code",
   "execution_count": null,
   "id": "bf8e5d62",
   "metadata": {},
   "outputs": [],
   "source": []
  }
 ],
 "metadata": {
  "kernelspec": {
   "display_name": "Python 3 (ipykernel)",
   "language": "python",
   "name": "python3"
  },
  "language_info": {
   "codemirror_mode": {
    "name": "ipython",
    "version": 3
   },
   "file_extension": ".py",
   "mimetype": "text/x-python",
   "name": "python",
   "nbconvert_exporter": "python",
   "pygments_lexer": "ipython3",
   "version": "3.10.11"
  }
 },
 "nbformat": 4,
 "nbformat_minor": 5
}
